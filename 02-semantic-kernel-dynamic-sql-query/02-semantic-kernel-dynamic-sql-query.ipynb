{
 "cells": [
  {
   "cell_type": "markdown",
   "metadata": {},
   "source": [
    "# Generate Dynamic SQL Query\n",
    "\n",
    "This notebook demonstrates how to use the Microsoft Semantic Kernel in .NET to generate dynamic SQL queries using natural language prompts and AI-powered workflows.\n",
    "\n",
    "This notebook demonstrates how to generate and run SQL queries using the Microsoft Semantic Kernel.\n",
    "\n",
    "Checkout the blog [Extending RAG with Dynamic SQL Queries](https://binarytrails.com/posts/2025/05/rag-with-dynamic-sql-tool) for more details:  \n",
    "https://binarytrails.com/posts/2025/05/rag-with-tools\n"
   ]
  },
  {
   "attachments": {},
   "cell_type": "markdown",
   "metadata": {},
   "source": [
    "**Step 1**: Install NuGet packages\n",
    "\n",
    "To get started with Semantic Kernel, you need to install the required NuGet packages. These packages provide the core functionality for interacting with AI models and managing environment variables. Specifically:\n",
    "- `Microsoft.SemanticKernel` enables you to build and run AI-powered workflows.\n",
    "- `DotNetEnv` allows you to load environment variables from a `.env` file, making it easier to manage secrets and configuration settings."
   ]
  },
  {
   "cell_type": "code",
   "execution_count": 1,
   "metadata": {
    "dotnet_interactive": {
     "language": "csharp"
    },
    "polyglot_notebook": {
     "kernelName": "csharp"
    }
   },
   "outputs": [
    {
     "data": {
      "text/html": [
       "<div><div></div><div></div><div><strong>Installed Packages</strong><ul><li><span>DotNetEnv, 3.1.0</span></li><li><span>Microsoft.SemanticKernel, 1.23.0</span></li></ul></div></div>"
      ]
     },
     "metadata": {},
     "output_type": "display_data"
    }
   ],
   "source": [
    "// Import Semantic Kernel\n",
    "#r \"nuget: Microsoft.SemanticKernel, 1.23.0\"\n",
    "#r \"nuget: DotNetEnv, 3.1.0\""
   ]
  },
  {
   "cell_type": "markdown",
   "metadata": {},
   "source": [
    "**Step 2**: Read environment variables\n",
    "\n",
    "  In this step, we load these variables from a `.env` file (if present) so that they can be accessed by the application.\n"
   ]
  },
  {
   "cell_type": "code",
   "execution_count": 29,
   "metadata": {
    "polyglot_notebook": {
     "kernelName": "csharp"
    }
   },
   "outputs": [
    {
     "name": "stdout",
     "output_type": "stream",
     "text": [
      "Loaded environment variables from d:\\personal\\ai-examples\\02-semantic-kernel-dynamic-sql-query\\..\\.env\r\n"
     ]
    }
   ],
   "source": [
    "using DotNetEnv;\n",
    "using System.IO;\n",
    "\n",
    "var envFilePath = Path.Combine(Environment.CurrentDirectory, \"..\", \".env\");\n",
    "if (File.Exists(envFilePath))\n",
    "{\n",
    "    Env.Load(envFilePath);\n",
    "    Console.WriteLine($\"Loaded environment variables from {envFilePath}\");\n",
    "}\n",
    "else\n",
    "{\n",
    "    Console.WriteLine($\"No .env file found at {envFilePath}\");\n",
    "}"
   ]
  },
  {
   "attachments": {},
   "cell_type": "markdown",
   "metadata": {},
   "source": [
    "**Step 3**: Instantiate the Kernel\n",
    "\n",
    "The Semantic Kernel is the core component that orchestrates AI services and plugins. In this step, we create and configure a Kernel instance, which will be used to interact with AI models."
   ]
  },
  {
   "cell_type": "code",
   "execution_count": 30,
   "metadata": {
    "dotnet_interactive": {
     "language": "csharp"
    },
    "polyglot_notebook": {
     "kernelName": "csharp"
    }
   },
   "outputs": [],
   "source": [
    "using Microsoft.SemanticKernel;\n",
    "using Kernel = Microsoft.SemanticKernel.Kernel;\n",
    "\n",
    "//Create Kernel builder\n",
    "var builder = Kernel.CreateBuilder();\n",
    "\n",
    "// Configure AI service credentials used by the kernel\n",
    "var (useAzureOpenAI, model, azureEndpoint, apiKey, orgId) = //read from environment variables\n",
    "    (Environment.GetEnvironmentVariable(\"USE_AZURE_OPENAI\") == \"true\",\n",
    "    Environment.GetEnvironmentVariable(\"MODEL\"),\n",
    "    Environment.GetEnvironmentVariable(\"AZURE_OPENAI_ENDPOINT\"),\n",
    "    Environment.GetEnvironmentVariable(\"AZURE_OPENAI_API_KEY\"),\n",
    "    Environment.GetEnvironmentVariable(\"OPENAI_ORG_ID\"));\n",
    "\n",
    "if (useAzureOpenAI)\n",
    "    builder.AddAzureOpenAIChatCompletion(model, azureEndpoint, apiKey);\n",
    "else\n",
    "    builder.AddOpenAIChatCompletion(model, apiKey, orgId);\n",
    "\n",
    "var kernel = builder.Build();"
   ]
  },
  {
   "cell_type": "markdown",
   "metadata": {},
   "source": [
    "**Step 4**: Create SQL Query Generation Plugin\n",
    "\n",
    "Create a plugin  that will handle SQL generation. This plugin will contain the logic for generating SQL queries based on natural language prompts."
   ]
  },
  {
   "cell_type": "code",
   "execution_count": 31,
   "metadata": {
    "polyglot_notebook": {
     "kernelName": "csharp"
    }
   },
   "outputs": [],
   "source": [
    "//add a semantic function using Semantic Kernel to generate a SQL query using a prompt template\n",
    "\n",
    "var sqlPrompt = @\"\n",
    "You are a SQL expert. You will be given a table schema and a question. Your task is to generate a SQL query that answers the question using the provided schema.\n",
    "The question will be a natural language question.\n",
    "The SQL query should be in the format of a string. Do not include any additional text or explanation.\n",
    "If you cannot answer the question using the provided schema, return 'SELECT NULL;'.\n",
    "Schema: \n",
    "CREATE TABLE Products (\n",
    "    id INT PRIMARY KEY,\n",
    "    model_name VARCHAR(255),\n",
    "    description VARCHAR,\n",
    "    bike_type VARCHAR(50),\n",
    "    price DECIMAL(10, 2),\n",
    "    created_at DATETIME\n",
    ");\n",
    "\n",
    "Question: {question}\n",
    "SQL Query:\"; \n",
    "\n",
    "var sqlFunction = kernel.CreateFunctionFromPrompt(sqlPrompt,functionName: \"GenerateSQLQuery\");"
   ]
  },
  {
   "cell_type": "markdown",
   "metadata": {},
   "source": [
    "**Step 5**: Create SQL Query Runnner Plugin\n",
    "\n",
    "Create a plugin that will handle SQL query execution. "
   ]
  },
  {
   "cell_type": "code",
   "execution_count": 32,
   "metadata": {
    "polyglot_notebook": {
     "kernelName": "csharp"
    }
   },
   "outputs": [],
   "source": [
    "using Microsoft.SemanticKernel;\n",
    "using System.ComponentModel;\n",
    "using Kernel = Microsoft.SemanticKernel.Kernel;\n",
    "\n",
    "public class Products{\n",
    "    public int Id { get; set; }\n",
    "    public string ModelName { get; set; }\n",
    "    public string Description { get; set; }\n",
    "    public string BikeType { get; set; }\n",
    "    public decimal Price { get; set; }\n",
    "    public DateTime CreatedAt { get; set; }\n",
    "}\n",
    "\n",
    "public class BikeStoreDatabasePlugin\n",
    "{ \n",
    "    \n",
    " [KernelFunction(\"execute_sql_query\")]\n",
    " [Description(\"Executes a SQL query\")]\n",
    " public List<Products> ExecuteSqlQuery(string sqlQuery)\n",
    " {\n",
    "     // Here you would normally execute the SQL query against your database\n",
    "     // For this example, we will just simulate the execution and return a list of products\n",
    "     Console.WriteLine($\"Executing SQL query: {sqlQuery}\");\n",
    "     \n",
    "     //simulate executing a SQL query by returning a list of products\n",
    "     return new List<Products>\n",
    "     {\n",
    "         new Products { Id = 1, ModelName = \"Mountain Bike\", Description = \"A great mountain bike\", BikeType = \"Mountain\", Price = 499.99m, CreatedAt = DateTime.Now },\n",
    "         new Products { Id = 2, ModelName = \"Road Bike\", Description = \"A fast road bike\", BikeType = \"Road\", Price = 599.99m, CreatedAt = DateTime.Now }\n",
    "     };     \n",
    " }\n",
    "\n",
    "}"
   ]
  },
  {
   "cell_type": "markdown",
   "metadata": {},
   "source": [
    "**Step 6**: Register the Plugin and Configure the Kernel\n",
    "\n",
    "Register the custom plugin with the kernel so its functions are available for function calling."
   ]
  },
  {
   "cell_type": "code",
   "execution_count": 33,
   "metadata": {
    "polyglot_notebook": {
     "kernelName": "csharp"
    }
   },
   "outputs": [],
   "source": [
    "// Register the plugin\n",
    "kernel.Plugins.AddFromType<BikeStoreDatabasePlugin>();\n",
    "kernel.Plugins.Add(KernelPluginFactory.CreateFromFunctions(\"GenerateSQLQuery\", functions: [sqlFunction],description: \"Plugin to generate SQL queries from natural language questions\"));\n"
   ]
  },
  {
   "cell_type": "markdown",
   "metadata": {},
   "source": [
    "**Step 7**: Ask the model about any questions about the product. You will see that a SQL query is generated and executed. In the below example, we are getting the list of all products in the database ordered by price.  "
   ]
  },
  {
   "cell_type": "code",
   "execution_count": 34,
   "metadata": {
    "polyglot_notebook": {
     "kernelName": "csharp"
    }
   },
   "outputs": [
    {
     "name": "stdout",
     "output_type": "stream",
     "text": [
      "Executing SQL query: SELECT * FROM bikes ORDER BY price DESC;\n",
      "Here is the list of all bikes in descending order of price:\n",
      "\n",
      "1. **Road Bike**:\n",
      "   - **Description**: A fast road bike\n",
      "   - **Type**: Road\n",
      "   - **Price**: $599.99\n",
      "\n",
      "2. **Mountain Bike**:\n",
      "   - **Description**: A great mountain bike\n",
      "   - **Type**: Mountain\n",
      "   - **Price**: $499.99\n"
     ]
    }
   ],
   "source": [
    "using Microsoft.SemanticKernel.ChatCompletion;\n",
    "using Microsoft.SemanticKernel.Connectors.OpenAI;\n",
    "\n",
    "#pragma warning disable SKEXP0001\n",
    "var chatCompletion = kernel.GetRequiredService<IChatCompletionService>();\n",
    "OpenAIPromptExecutionSettings openAIPromptExecutionSettings = new() \n",
    "{\n",
    "    FunctionChoiceBehavior = FunctionChoiceBehavior.Auto()\n",
    "};\n",
    "\n",
    "#pragma warning restore SKEXP0001\n",
    "\n",
    "ChatHistory chatHistory = [];\n",
    "chatHistory.AddUserMessage(\"Get me the list of all bikes using descending order of price\");\n",
    "var response = await chatCompletion.GetChatMessageContentAsync(\n",
    "    chatHistory,\n",
    "    executionSettings: openAIPromptExecutionSettings,\n",
    "    kernel: kernel);\n",
    "\n",
    "Console.WriteLine(response);\n"
   ]
  }
 ],
 "metadata": {
  "kernelspec": {
   "display_name": ".NET (C#)",
   "language": "C#",
   "name": ".net-csharp"
  },
  "language_info": {
   "name": "polyglot-notebook"
  },
  "polyglot_notebook": {
   "kernelInfo": {
    "defaultKernelName": "csharp",
    "items": [
     {
      "aliases": [],
      "name": "csharp"
     }
    ]
   }
  }
 },
 "nbformat": 4,
 "nbformat_minor": 2
}
