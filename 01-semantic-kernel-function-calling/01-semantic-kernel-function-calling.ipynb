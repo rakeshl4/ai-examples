{
 "cells": [
  {
   "cell_type": "markdown",
   "metadata": {},
   "source": [
    "# Function Calling with Microsoft Semantic Kernel in .NET\n",
    "\n",
    "This notebook demonstrates how to extend the Microsoft Semantic Kernel with custom C# functions and plugins.\n",
    "\n",
    "Checkout the blog [Extending RAG with database tools](https://binarytrails.com/posts/2025/05/rag-with-tools) for more details."
   ]
  },
  {
   "attachments": {},
   "cell_type": "markdown",
   "metadata": {},
   "source": [
    "**Step 1**: Install NuGet packages\n",
    "\n",
    "To get started with Semantic Kernel, you need to install the required NuGet packages. These packages provide the core functionality for interacting with AI models and managing environment variables. Specifically:\n",
    "- `Microsoft.SemanticKernel` enables you to build and run AI-powered workflows.\n",
    "- `DotNetEnv` allows you to load environment variables from a `.env` file, making it easier to manage secrets and configuration settings."
   ]
  },
  {
   "cell_type": "code",
   "execution_count": 21,
   "metadata": {
    "dotnet_interactive": {
     "language": "csharp"
    },
    "polyglot_notebook": {
     "kernelName": "csharp"
    }
   },
   "outputs": [
    {
     "data": {
      "text/html": [
       "<div><div></div><div></div><div><strong>Installed Packages</strong><ul><li><span>DotNetEnv, 3.1.0</span></li><li><span>Microsoft.SemanticKernel, 1.23.0</span></li></ul></div></div>"
      ]
     },
     "metadata": {},
     "output_type": "display_data"
    }
   ],
   "source": [
    "// Import Semantic Kernel\n",
    "#r \"nuget: Microsoft.SemanticKernel, 1.23.0\"\n",
    "#r \"nuget: DotNetEnv, 3.1.0\""
   ]
  },
  {
   "cell_type": "markdown",
   "metadata": {},
   "source": [
    "**Step 2**: Read environment variables\n",
    "\n",
    "In this step, we load these variables from a `.env` file (if present) so that they can be accessed by the application.\n"
   ]
  },
  {
   "cell_type": "code",
   "execution_count": 22,
   "metadata": {
    "polyglot_notebook": {
     "kernelName": "csharp"
    }
   },
   "outputs": [
    {
     "name": "stdout",
     "output_type": "stream",
     "text": [
      "Loaded environment variables from d:\\personal\\ai-examples\\01-semantic-kernel-function-calling\\..\\.env\r\n"
     ]
    }
   ],
   "source": [
    "using DotNetEnv;\n",
    "using System.IO;\n",
    "\n",
    "var envFilePath = Path.Combine(Environment.CurrentDirectory, \"..\", \".env\");\n",
    "if (File.Exists(envFilePath))\n",
    "{\n",
    "    Env.Load(envFilePath);\n",
    "    Console.WriteLine($\"Loaded environment variables from {envFilePath}\");\n",
    "}\n",
    "else\n",
    "{\n",
    "    Console.WriteLine($\"No .env file found at {envFilePath}\");\n",
    "}"
   ]
  },
  {
   "cell_type": "markdown",
   "metadata": {},
   "source": [
    "**Step 3**: Instantiate the Kernel\n",
    "\n",
    "The Semantic Kernel is the core component that orchestrates AI services and plugins. In this step, we create and configure a Kernel instance, which will be used to interact with AI models."
   ]
  },
  {
   "cell_type": "code",
   "execution_count": 23,
   "metadata": {
    "polyglot_notebook": {
     "kernelName": "csharp"
    }
   },
   "outputs": [],
   "source": [
    "using Microsoft.SemanticKernel;\n",
    "using Kernel = Microsoft.SemanticKernel.Kernel;\n",
    "\n",
    "//Create Kernel builder\n",
    "var builder = Kernel.CreateBuilder();\n",
    "\n",
    "// Configure AI service credentials used by the kernel\n",
    "var (useAzureOpenAI, model, azureEndpoint, apiKey, orgId) = //read from environment variables\n",
    "    (Environment.GetEnvironmentVariable(\"USE_AZURE_OPENAI\") == \"true\",\n",
    "    Environment.GetEnvironmentVariable(\"MODEL\"),\n",
    "    Environment.GetEnvironmentVariable(\"AZURE_OPENAI_ENDPOINT\"),\n",
    "    Environment.GetEnvironmentVariable(\"AZURE_OPENAI_API_KEY\"),\n",
    "    Environment.GetEnvironmentVariable(\"OPENAI_ORG_ID\"));\n",
    "\n",
    "if (useAzureOpenAI)\n",
    "    builder.AddAzureOpenAIChatCompletion(model, azureEndpoint, apiKey);\n",
    "else\n",
    "    builder.AddOpenAIChatCompletion(model, apiKey, orgId);\n",
    "\n",
    "var kernel = builder.Build();"
   ]
  },
  {
   "cell_type": "markdown",
   "metadata": {},
   "source": [
    "**Step 4**: Create Bike Store Plugin\n",
    "\n",
    "Create a plugin with functions that can be called by the kernel, such as retrieving bike prices or listing bikes by type."
   ]
  },
  {
   "cell_type": "code",
   "execution_count": 24,
   "metadata": {
    "polyglot_notebook": {
     "kernelName": "csharp"
    }
   },
   "outputs": [],
   "source": [
    "using Microsoft.SemanticKernel;\n",
    "using System.ComponentModel;\n",
    "using Kernel = Microsoft.SemanticKernel.Kernel;\n",
    "\n",
    "public class BikeStoreDatabasePlugin\n",
    "{ \n",
    "    \n",
    " [KernelFunction(\"get_bike_price\")]\n",
    " [Description(\"Gets the price of a bike\")]\n",
    " public int GetBikePrice(string bikeName)\n",
    " {\n",
    "     return bikeName switch\n",
    "     {\n",
    "            \"Mountain Bike 1\" => 500,\n",
    "            \"Mountain Bike 2\" => 600,\n",
    "            \"Road Bike 1\" => 700,\n",
    "            \"Road Bike 2\" => 800,\n",
    "            \"Hybrid Bike 1\" => 900,\n",
    "            \"Hybrid Bike 2\" => 1000,\n",
    "         _ => 0\n",
    "     };\n",
    " }\n",
    "\n",
    " [KernelFunction(\"get_bikes_by_type\")]\n",
    " [Description(\"Gets the bikes by type\")]\n",
    " public List<string> GetBikesByType(string bikeType)\n",
    " {\n",
    "     return bikeType switch\n",
    "     {\n",
    "         \"Mountain\" => new List<string> { \"Mountain Bike 1\", \"Mountain Bike 2\" },\n",
    "         \"Road\" => new List<string> { \"Road Bike 1\", \"Road Bike 2\" },\n",
    "         \"Hybrid\" => new List<string> { \"Hybrid Bike 1\", \"Hybrid Bike 2\" },\n",
    "         _ => new List<string>()\n",
    "     };\n",
    " }\n",
    "\n",
    "}"
   ]
  },
  {
   "cell_type": "markdown",
   "metadata": {},
   "source": [
    "**Step 5**: Register the Plugin and Configure the Kernel\n",
    "\n",
    "Register the custom plugin with the kernel so its functions are available for function calling."
   ]
  },
  {
   "cell_type": "code",
   "execution_count": 25,
   "metadata": {
    "polyglot_notebook": {
     "kernelName": "csharp"
    }
   },
   "outputs": [],
   "source": [
    "\n",
    "// Register the plugin\n",
    "kernel.Plugins.AddFromType<BikeStoreDatabasePlugin>();\n"
   ]
  },
  {
   "cell_type": "markdown",
   "metadata": {},
   "source": [
    "**Step 6**: Query the Model for Bike Price\n",
    "\n",
    "Ask the model for the price of a specific bike. The kernel will use the registered plugin to answer the query."
   ]
  },
  {
   "cell_type": "code",
   "execution_count": 26,
   "metadata": {
    "polyglot_notebook": {
     "kernelName": "csharp"
    }
   },
   "outputs": [
    {
     "name": "stdout",
     "output_type": "stream",
     "text": [
      "The price of the Mountain Bike 1 is $500.\r\n"
     ]
    }
   ],
   "source": [
    "using Microsoft.SemanticKernel.ChatCompletion;\n",
    "using Microsoft.SemanticKernel.Connectors.OpenAI;\n",
    "\n",
    "#pragma warning disable SKEXP0001\n",
    "var chatCompletion = kernel.GetRequiredService<IChatCompletionService>();\n",
    "OpenAIPromptExecutionSettings openAIPromptExecutionSettings = new() \n",
    "{\n",
    "    FunctionChoiceBehavior = FunctionChoiceBehavior.Auto()\n",
    "};\n",
    "\n",
    "#pragma warning restore SKEXP0001\n",
    "\n",
    "ChatHistory chatHistory = [];\n",
    "chatHistory.AddUserMessage(\"What is the price of the bike Mountain Bike 1?\");\n",
    "var response = await chatCompletion.GetChatMessageContentAsync(\n",
    "    chatHistory,\n",
    "    executionSettings: openAIPromptExecutionSettings,\n",
    "    kernel: kernel);\n",
    "\n",
    "Console.WriteLine(response);\n"
   ]
  },
  {
   "cell_type": "markdown",
   "metadata": {},
   "source": [
    "**Step 7**: Query the Model for Available Bikes by Type\n",
    "\n",
    "Ask the model for a list of bikes by type. The kernel will use the registered plugin to provide the answer."
   ]
  },
  {
   "cell_type": "code",
   "execution_count": 27,
   "metadata": {
    "polyglot_notebook": {
     "kernelName": "csharp"
    }
   },
   "outputs": [
    {
     "name": "stdout",
     "output_type": "stream",
     "text": [
      "We have the following mountain bikes available:\n",
      "\n",
      "1. Mountain Bike 1\n",
      "2. Mountain Bike 2\n",
      "\n",
      "Would you like to know more details about any of these bikes?\r\n"
     ]
    }
   ],
   "source": [
    "using Microsoft.SemanticKernel.ChatCompletion;\n",
    "using Microsoft.SemanticKernel.Connectors.OpenAI;\n",
    "\n",
    "#pragma warning disable SKEXP0001\n",
    "var chatCompletion = kernel.GetRequiredService<IChatCompletionService>();\n",
    "OpenAIPromptExecutionSettings openAIPromptExecutionSettings = new() \n",
    "{\n",
    "    FunctionChoiceBehavior = FunctionChoiceBehavior.Auto()\n",
    "};\n",
    "\n",
    "#pragma warning restore SKEXP0001\n",
    "\n",
    "ChatHistory chatHistory = [];\n",
    "chatHistory.AddUserMessage(\"What Mountain bikes do you have?\");\n",
    "var response = await chatCompletion.GetChatMessageContentAsync(\n",
    "    chatHistory,\n",
    "    executionSettings: openAIPromptExecutionSettings,\n",
    "    kernel: kernel);\n",
    "\n",
    "Console.WriteLine(response);\n"
   ]
  },
  {
   "cell_type": "markdown",
   "metadata": {},
   "source": []
  }
 ],
 "metadata": {
  "kernelspec": {
   "display_name": ".NET (C#)",
   "language": "C#",
   "name": ".net-csharp"
  },
  "language_info": {
   "name": "polyglot-notebook"
  },
  "polyglot_notebook": {
   "kernelInfo": {
    "defaultKernelName": "csharp",
    "items": [
     {
      "aliases": [],
      "name": "csharp"
     }
    ]
   }
  }
 },
 "nbformat": 4,
 "nbformat_minor": 2
}
